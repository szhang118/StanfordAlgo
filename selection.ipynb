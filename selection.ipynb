{
 "cells": [
  {
   "cell_type": "code",
   "execution_count": 1,
   "metadata": {
    "collapsed": true
   },
   "outputs": [],
   "source": [
    "import numpy as np\n",
    "import math\n",
    "import random\n",
    "import time"
   ]
  },
  {
   "cell_type": "code",
   "execution_count": 2,
   "metadata": {
    "collapsed": true
   },
   "outputs": [],
   "source": [
    "def part(A, l, r):\n",
    "    \"\"\"Partition subroutine using first element of A as pivot. l and r are left and right boundary indices.\"\"\"\n",
    "    pivot = A[l] #pivot as first element\n",
    "    i = l + 1 #boundary between less than pivot and greater than pivot\n",
    "    for j in xrange(l+1, r):\n",
    "        if A[j] < pivot:\n",
    "            A[i], A[j] = A[j], A[i] #swap elements to maintain invariant of partition\n",
    "            i += 1 #boundary of pivot has moved one to the right\n",
    "    A[l], A[i-1] = A[i-1], A[l] #swap pivot and right most entry less than pivot"
   ]
  },
  {
   "cell_type": "code",
   "execution_count": 3,
   "metadata": {
    "collapsed": true
   },
   "outputs": [],
   "source": [
    "def selr(A, n, i):\n",
    "    \"\"\"Find ith smallest element of array A with length n.\"\"\"\n",
    "    if n <= 1: #when array is of length 1\n",
    "        return A[0]\n",
    "    else:\n",
    "        n = len(A)\n",
    "        pivot = random.choice(A)\n",
    "        pindex = A.index(pivot) #index value of median\n",
    "        A[0], A[pindex] = A[pindex], A[0] #swap pivot to first position\n",
    "        part(A, 0, n) #partition array around pivot element\n",
    "        j = A.index(pivot) #new index of pivot\n",
    "        if j == i: #if randomly chosen pivot is the ith smallest element of A\n",
    "            return pivot\n",
    "        elif j>i: # what we are looking for is to the left of pivot\n",
    "            return selr(A[:j], len(A[:j]), i)\n",
    "        elif j<i: #what we are looking for is to the right of pivot\n",
    "            return selr(A[j+1:], len(A[j+1:]), i-j-1)"
   ]
  },
  {
   "cell_type": "code",
   "execution_count": 4,
   "metadata": {
    "collapsed": false
   },
   "outputs": [
    {
     "name": "stdout",
     "output_type": "stream",
     "text": [
      "0.499620453849\n",
      "0.10066373204\n"
     ]
    }
   ],
   "source": [
    "a = list(np.random.random(size=100000))\n",
    "random.shuffle(a)\n",
    "print np.mean(a)\n",
    "print selr(a, len(a), 10000) "
   ]
  },
  {
   "cell_type": "code",
   "execution_count": null,
   "metadata": {
    "collapsed": false
   },
   "outputs": [],
   "source": []
  },
  {
   "cell_type": "code",
   "execution_count": 5,
   "metadata": {
    "collapsed": true
   },
   "outputs": [],
   "source": [
    "def median(a):\n",
    "    n = len(a)\n",
    "    if n == 5:\n",
    "        return sorted(a)[2]\n",
    "    elif n % 2 == 0:\n",
    "        return sorted(a)[n/2-1]\n",
    "    else:\n",
    "        return sorted(a)[n//2]"
   ]
  },
  {
   "cell_type": "code",
   "execution_count": 6,
   "metadata": {
    "collapsed": true
   },
   "outputs": [],
   "source": [
    "def dselect(A, n, i):\n",
    "    \"\"\"Deterministic algorithm for finding ith smallest element of array A with length n.\"\"\"\n",
    "    if n <= 5:\n",
    "        return sorted(A)[i]\n",
    "    else:\n",
    "        idx = 0\n",
    "        C = [] #array for medians of 5 element subsets\n",
    "        while idx <= len(A)-5:\n",
    "            try:\n",
    "                sub = A[idx:idx+5]\n",
    "            except:\n",
    "                sub = A[idx:] #if fewer than 5 elements from end of A\n",
    "            C.append(median(sub))\n",
    "            idx += 5\n",
    "        p = dselect(C, len(C), len(C)//2) #find median of medians and use as pivot\n",
    "        pindex = A.index(p) \n",
    "        A[0], A[pindex] = A[pindex], A[0] #move pivot to first positoin in A\n",
    "        part(A, 0, n)\n",
    "        j = A.index(p) #index of pivot after partition around pivot\n",
    "        if j == i:\n",
    "            return p\n",
    "        elif j>i: #when ith element is to the left of pivot\n",
    "            return dselect(A[:j], len(A[:j]), i) \n",
    "        elif j<i: #when ith smallest is to the right of pivot\n",
    "            return dselect(A[j+1:], len(A[j+1:]), i-j-1) #modify index of ith element by subtracting pivot left portion"
   ]
  },
  {
   "cell_type": "code",
   "execution_count": 7,
   "metadata": {
    "collapsed": false
   },
   "outputs": [
    {
     "name": "stdout",
     "output_type": "stream",
     "text": [
      "499999.5\n",
      "Deterministic selection took 3.6480 seconds.\n"
     ]
    }
   ],
   "source": [
    "a = [x for x in range(1000000)]\n",
    "random.shuffle(a)\n",
    "print np.mean(a)\n",
    "start = time.time()\n",
    "assert dselect(a, len(a), 10) == sorted(a)[10]\n",
    "end = time.time()\n",
    "print \"Deterministic selection took %0.4f seconds.\" %(end-start)"
   ]
  },
  {
   "cell_type": "code",
   "execution_count": 8,
   "metadata": {
    "collapsed": false
   },
   "outputs": [
    {
     "name": "stdout",
     "output_type": "stream",
     "text": [
      "499999.5\n",
      "Random selection took 2.0670 seconds.\n"
     ]
    }
   ],
   "source": [
    "a = [x for x in range(1000000)]\n",
    "random.shuffle(a)\n",
    "print np.mean(a)\n",
    "start = time.time()\n",
    "assert selr(a, len(a), 10) == sorted(a)[10]\n",
    "end = time.time()\n",
    "print \"Random selection took %0.4f seconds.\" %(end-start)"
   ]
  },
  {
   "cell_type": "code",
   "execution_count": null,
   "metadata": {
    "collapsed": true
   },
   "outputs": [],
   "source": []
  }
 ],
 "metadata": {
  "kernelspec": {
   "display_name": "Python 2",
   "language": "python",
   "name": "python2"
  },
  "language_info": {
   "codemirror_mode": {
    "name": "ipython",
    "version": 2
   },
   "file_extension": ".py",
   "mimetype": "text/x-python",
   "name": "python",
   "nbconvert_exporter": "python",
   "pygments_lexer": "ipython2",
   "version": "2.7.12"
  }
 },
 "nbformat": 4,
 "nbformat_minor": 0
}
