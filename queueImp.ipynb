{
 "cells": [
  {
   "cell_type": "code",
   "execution_count": 2,
   "metadata": {
    "collapsed": false
   },
   "outputs": [
    {
     "name": "stdout",
     "output_type": "stream",
     "text": [
      "4\n",
      "[1, 2, 3]\n"
     ]
    }
   ],
   "source": [
    "a = [1,2,3,4]\n",
    "print a.pop()\n",
    "print a"
   ]
  },
  {
   "cell_type": "code",
   "execution_count": 23,
   "metadata": {
    "collapsed": true
   },
   "outputs": [],
   "source": [
    "class Queue:\n",
    "    def __init__(self, items=[]):\n",
    "        self.items = items\n",
    "    \n",
    "    def is_empty(self):\n",
    "        return self.items == []\n",
    "    \n",
    "    def enqueue(self, item):\n",
    "        self.items.insert(0, item) #rear of the queue is index 0, enqueue is O(n)\n",
    "    \n",
    "    def dequeue(self):\n",
    "        return self.items.pop() #dequeue from end of list O(1)\n",
    "    \n",
    "    def size(self):\n",
    "        return len(self.items)"
   ]
  },
  {
   "cell_type": "code",
   "execution_count": 13,
   "metadata": {
    "collapsed": true
   },
   "outputs": [],
   "source": [
    "def hot_potato(name_list, num):\n",
    "    sim_queue = Queue()\n",
    "    for name in name_list:\n",
    "        sim_queue.enqueue(name)\n",
    "    while sim_queue.size() > 1:\n",
    "        for i in range(num):\n",
    "            sim_queue.enqueue(sim_queue.dequeue())\n",
    "        sim_queue.dequeue()\n",
    "    return sim_queue.dequeue()"
   ]
  },
  {
   "cell_type": "code",
   "execution_count": 24,
   "metadata": {
    "collapsed": false
   },
   "outputs": [
    {
     "name": "stdout",
     "output_type": "stream",
     "text": [
      "moron\n"
     ]
    }
   ],
   "source": [
    "print hot_potato(['fag', 'dyke', 'moron', 'fool', 'loser', 'kike', 'idiot'], 5)"
   ]
  },
  {
   "cell_type": "code",
   "execution_count": 25,
   "metadata": {
    "collapsed": true
   },
   "outputs": [],
   "source": [
    "from __future__ import division"
   ]
  },
  {
   "cell_type": "code",
   "execution_count": 27,
   "metadata": {
    "collapsed": false
   },
   "outputs": [],
   "source": [
    "class Printer:\n",
    "    def __init__(self, ppm):\n",
    "        self.page_rate = ppm\n",
    "        self.current_task = None\n",
    "        self.time_remaining = 0\n",
    "    \n",
    "    def tick(self):\n",
    "        if self.current_task != None:\n",
    "            self.time_remaining -= 1\n",
    "            if self.time_remaining <= 0:\n",
    "                self.current_task = None\n",
    "    \n",
    "    def busy(self):\n",
    "        if self.current_task != None:\n",
    "            return True\n",
    "        return False\n",
    "    \n",
    "    def start_next(self, new_task):\n",
    "        self.current_task = new_task\n",
    "        self.time_remaining = new_task.get_pages()*60/self.page_rate"
   ]
  },
  {
   "cell_type": "code",
   "execution_count": 28,
   "metadata": {
    "collapsed": true
   },
   "outputs": [],
   "source": [
    "import random"
   ]
  },
  {
   "cell_type": "code",
   "execution_count": 55,
   "metadata": {
    "collapsed": true
   },
   "outputs": [],
   "source": [
    "class Task:\n",
    "    def __init__(self, time, length):\n",
    "        self.timestamp = time\n",
    "        self.pages = length #number of pages from 1-20 uniformly\n",
    "    def get_stamp(self):\n",
    "        return self.timestamp\n",
    "    \n",
    "    def get_pages(self):\n",
    "        return self.pages\n",
    "    \n",
    "    def wait_time(self, current_time):\n",
    "        return current_time - self.timestamp"
   ]
  },
  {
   "cell_type": "code",
   "execution_count": 52,
   "metadata": {
    "collapsed": true
   },
   "outputs": [],
   "source": [
    "def new_print_task(n):\n",
    "    \"\"\"A new print task generated very n seconds.\"\"\"\n",
    "    num = random.randrange(1, n+1) #new print task every 180 seconds\n",
    "    return num == n"
   ]
  },
  {
   "cell_type": "code",
   "execution_count": 31,
   "metadata": {
    "collapsed": true
   },
   "outputs": [],
   "source": [
    "import numpy as np"
   ]
  },
  {
   "cell_type": "code",
   "execution_count": 56,
   "metadata": {
    "collapsed": true
   },
   "outputs": [],
   "source": [
    "def simulation(num_seconds, pages_per_minute, time_between, max_length):\n",
    "    lab_printer = Printer(pages_per_minute)\n",
    "    print_queue = Queue()\n",
    "    waiting_times = []\n",
    "    for current_second in range(num_seconds):\n",
    "        if new_print_task(time_between):\n",
    "            task = Task(current_second, random.randrange(1, max_length+1)) #create a new task with current time/page length \n",
    "            print_queue.enqueue(task) #put task onto printer queue\n",
    "        #if printer is not busy and there is a job in the queue\n",
    "        if (not lab_printer.busy()) and (not print_queue.is_empty()):\n",
    "            next_task = print_queue.dequeue()\n",
    "            waiting_times.append(next_task.wait_time(current_second)) #add waiting time to list\n",
    "            lab_printer.start_next(next_task)\n",
    "        lab_printer.tick() #increment time in printer\n",
    "    average_wait = np.mean(waiting_times)\n",
    "    print \"Average wait %0.4f seconds and %d tasks remaining.\" %(average_wait, print_queue.size())"
   ]
  },
  {
   "cell_type": "code",
   "execution_count": 67,
   "metadata": {
    "collapsed": false
   },
   "outputs": [
    {
     "name": "stdout",
     "output_type": "stream",
     "text": [
      "Average wait -24.4848 seconds and 5 tasks remaining.\n"
     ]
    }
   ],
   "source": [
    "simulation(3600, 10, 120, 25)"
   ]
  },
  {
   "cell_type": "code",
   "execution_count": 81,
   "metadata": {
    "collapsed": true
   },
   "outputs": [],
   "source": [
    "class Deque():\n",
    "    def __init__(self):\n",
    "        self.items = []\n",
    "    \n",
    "    def is_empty(self):\n",
    "        return self.items == []\n",
    "    \n",
    "    def add_front(self, item):\n",
    "        self.items.append(item) #add front is O(1)\n",
    "    \n",
    "    def add_rear(self, item):\n",
    "        self.items.insert(0, item) #add rear is O(n)\n",
    "        \n",
    "    def remove_front(self):\n",
    "        return self.items.pop()\n",
    "    \n",
    "    def remove_rear(self):\n",
    "        return self.items.pop(0)\n",
    "    \n",
    "    def size(self):\n",
    "        return len(self.items)"
   ]
  },
  {
   "cell_type": "code",
   "execution_count": 80,
   "metadata": {
    "collapsed": false
   },
   "outputs": [
    {
     "name": "stdout",
     "output_type": "stream",
     "text": [
      "None\n"
     ]
    }
   ],
   "source": [
    "d = Deque()\n",
    "d.add_rear(8)\n",
    "d.add_front(9)\n",
    "print d.remove_front()"
   ]
  },
  {
   "cell_type": "code",
   "execution_count": 82,
   "metadata": {
    "collapsed": true
   },
   "outputs": [],
   "source": [
    "def palindrome(s):\n",
    "    letters = Deque()\n",
    "    for char in s:\n",
    "        letters.add_rear(char)\n",
    "    pal = True\n",
    "    while letters.size() > 1 and pal:\n",
    "        front = letters.remove_front()\n",
    "        back = letters.remove_rear()\n",
    "        if front != back:\n",
    "            return False\n",
    "    return pal"
   ]
  },
  {
   "cell_type": "code",
   "execution_count": 93,
   "metadata": {
    "collapsed": true
   },
   "outputs": [],
   "source": [
    "def pcheck(s):\n",
    "    return s == s[::-1]"
   ]
  },
  {
   "cell_type": "code",
   "execution_count": 83,
   "metadata": {
    "collapsed": false
   },
   "outputs": [
    {
     "name": "stdout",
     "output_type": "stream",
     "text": [
      "True\n",
      "True\n",
      "False\n"
     ]
    }
   ],
   "source": [
    "print palindrome('racecar')\n",
    "print palindrome('toot')\n",
    "print palindrome('ho')"
   ]
  },
  {
   "cell_type": "code",
   "execution_count": 94,
   "metadata": {
    "collapsed": false
   },
   "outputs": [
    {
     "name": "stdout",
     "output_type": "stream",
     "text": [
      "True\n"
     ]
    }
   ],
   "source": [
    "print pcheck('racecar')"
   ]
  },
  {
   "cell_type": "code",
   "execution_count": 4,
   "metadata": {
    "collapsed": true
   },
   "outputs": [],
   "source": [
    "class rq:\n",
    "    def __init__(self, items=[]):\n",
    "        self.items = items\n",
    "    \n",
    "    def is_empty(self):\n",
    "        return self.items == []\n",
    "    \n",
    "    def enqueue(self, item):\n",
    "        self.items.append(item) #rear of the queue is at end of list, enqueue is O(1)\n",
    "    \n",
    "    def dequeue(self):\n",
    "        return self.items.pop(0) #dequeue from front of list O(n)\n",
    "    \n",
    "    def size(self):\n",
    "        return len(self.items)\n",
    "    \n",
    "    def get_items(self):\n",
    "        return self.items"
   ]
  },
  {
   "cell_type": "code",
   "execution_count": 6,
   "metadata": {
    "collapsed": false
   },
   "outputs": [
    {
     "name": "stdout",
     "output_type": "stream",
     "text": [
      "[2, 3, 4, 5]\n"
     ]
    }
   ],
   "source": [
    "r = rq(items=[1, 2, 3, 4])\n",
    "r.enqueue(5)\n",
    "r.dequeue()\n",
    "print r.get_items()"
   ]
  },
  {
   "cell_type": "code",
   "execution_count": null,
   "metadata": {
    "collapsed": true
   },
   "outputs": [],
   "source": []
  }
 ],
 "metadata": {
  "kernelspec": {
   "display_name": "Python 2",
   "language": "python",
   "name": "python2"
  },
  "language_info": {
   "codemirror_mode": {
    "name": "ipython",
    "version": 2
   },
   "file_extension": ".py",
   "mimetype": "text/x-python",
   "name": "python",
   "nbconvert_exporter": "python",
   "pygments_lexer": "ipython2",
   "version": "2.7.12"
  }
 },
 "nbformat": 4,
 "nbformat_minor": 0
}
