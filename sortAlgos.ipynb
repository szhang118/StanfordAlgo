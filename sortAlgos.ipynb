{
 "cells": [
  {
   "cell_type": "code",
   "execution_count": 1,
   "metadata": {
    "collapsed": true
   },
   "outputs": [],
   "source": [
    "import numpy as np"
   ]
  },
  {
   "cell_type": "code",
   "execution_count": 8,
   "metadata": {
    "collapsed": false
   },
   "outputs": [
    {
     "name": "stdout",
     "output_type": "stream",
     "text": [
      "[1, 2, 3, 4, 5]\n"
     ]
    }
   ],
   "source": [
    "a = [1, 2, 3]\n",
    "b = [4, 5]\n",
    "a.extend(b)\n",
    "print a"
   ]
  },
  {
   "cell_type": "code",
   "execution_count": 21,
   "metadata": {
    "collapsed": true
   },
   "outputs": [],
   "source": [
    "def merge(a, b):\n",
    "    \"\"\"Combine two sorted lists a and b into a combined list c.\"\"\"\n",
    "    c = [] #empty list for combined\n",
    "    i = 0\n",
    "    j = 0\n",
    "    len_a = len(a)\n",
    "    if len_a == 0: #check if list is empty\n",
    "        return b #return other list if this is the case\n",
    "    len_b = len(b)\n",
    "    if len_b == 0:\n",
    "        return a\n",
    "    n = len_a + len_b\n",
    "    for k in xrange(n):\n",
    "        if a[i] < b[j]:\n",
    "            c.append(a[i]) #add to merged list if element in list a is smaller\n",
    "            i += 1\n",
    "            if i == len_a: #if we have reached the end of array a\n",
    "                c.extend(b[j:]) #add unexamined part of b to end of combined c and finish\n",
    "                return c\n",
    "        else:\n",
    "            c.append(b[j])\n",
    "            j += 1\n",
    "            if j == len_b: #reach end of list b\n",
    "                c.extend(a[i:]) #add unexamined part of a\n",
    "                return c\n",
    "    return c"
   ]
  },
  {
   "cell_type": "code",
   "execution_count": 34,
   "metadata": {
    "collapsed": false
   },
   "outputs": [],
   "source": [
    "def mergetest():\n",
    "    a = [1, 2, 3]\n",
    "    b = [1, 1, 1]\n",
    "    assert merge(a, b) == [1, 1, 1, 1, 2, 3]\n",
    "    c = []\n",
    "    assert merge(a, c) == [1, 2, 3]\n",
    "    d = [1, 2, 4, 5, 6, 7]\n",
    "    assert merge(a, d) == [1, 1, 2, 2 ,3, 4, 5, 6, 7]\n",
    "    print \"All tests passed.\""
   ]
  },
  {
   "cell_type": "code",
   "execution_count": 2,
   "metadata": {
    "collapsed": false
   },
   "outputs": [],
   "source": [
    "import random"
   ]
  },
  {
   "cell_type": "code",
   "execution_count": null,
   "metadata": {
    "collapsed": false
   },
   "outputs": [],
   "source": []
  },
  {
   "cell_type": "code",
   "execution_count": 40,
   "metadata": {
    "collapsed": true
   },
   "outputs": [],
   "source": [
    "def mergesort(a):\n",
    "    \"\"\"Run mergesort algorithm on a list a.\"\"\"\n",
    "    if len(a) <= 1: #base case for recursion\n",
    "        return a\n",
    "    else:\n",
    "        s = len(a)//2 #define a split point \n",
    "        return merge(mergesort(a[:s]), mergesort(a[s:])) #merge two halves after sort halves"
   ]
  },
  {
   "cell_type": "code",
   "execution_count": 111,
   "metadata": {
    "collapsed": false
   },
   "outputs": [
    {
     "name": "stdout",
     "output_type": "stream",
     "text": [
      "Unsorted list\n",
      "[60, 41, 6, 8, 32, 1, 12, 28, 85, 8, 88, 10, 7, 56, 79, 79, 74, 91, 16, 3, 83, 91, 50, 90, 9, 80, 25, 62, 8, 55, 82, 13, 74, 3, 70, 71, 71, 90, 90, 34, 48, 38, 71, 53, 38, 66, 92, 84, 15, 21, 41, 23, 89, 43, 63, 64, 79, 55, 90, 75, 0, 27, 32, 18, 90, 28, 100, 8, 94, 2, 78, 91, 61, 66, 87, 55, 13, 40, 89, 29, 9, 22, 36, 45, 80, 51, 69, 75, 52, 30, 44, 36, 86, 16, 16, 89, 62, 71, 44, 37]\n",
      "Sorted list\n",
      "[0, 1, 2, 3, 3, 6, 7, 8, 8, 8, 8, 9, 9, 10, 12, 13, 13, 15, 16, 16, 16, 18, 21, 22, 23, 25, 27, 28, 28, 29, 30, 32, 32, 34, 36, 36, 37, 38, 38, 40, 41, 41, 43, 44, 44, 45, 48, 50, 51, 52, 53, 55, 55, 55, 56, 60, 61, 62, 62, 63, 64, 66, 66, 69, 70, 71, 71, 71, 71, 74, 74, 75, 75, 78, 79, 79, 79, 80, 80, 82, 83, 84, 85, 86, 87, 88, 89, 89, 89, 90, 90, 90, 90, 90, 91, 91, 91, 92, 94, 100]\n"
     ]
    }
   ],
   "source": [
    "a = [random.randrange(0, 101) for i in range(100)]\n",
    "print \"Unsorted list\"\n",
    "print a\n",
    "print \"Sorted list\"\n",
    "print mergesort(a)\n",
    "assert mergesort(a) == sorted(a)"
   ]
  },
  {
   "cell_type": "code",
   "execution_count": 49,
   "metadata": {
    "collapsed": false
   },
   "outputs": [
    {
     "name": "stdout",
     "output_type": "stream",
     "text": [
      "[1, 2, 3]\n"
     ]
    }
   ],
   "source": [
    "print mergesort([2, 3,1])"
   ]
  },
  {
   "cell_type": "code",
   "execution_count": 50,
   "metadata": {
    "collapsed": true
   },
   "outputs": [],
   "source": [
    "def bubble(a):\n",
    "    \"\"\"Sort a list in descending order using bubble sort algorithm.\"\"\"\n",
    "    if len(a) <= 1: #trivial case of length list a <= 1\n",
    "        return a\n",
    "    sort = False\n",
    "    while not sort:\n",
    "        sort = True\n",
    "        for i in range(len(a)-1):\n",
    "            if a[i] > a[i+1]: \n",
    "                a[i], a[i+1] = a[i+1], a[i] #swap adjacent elements if in wrong order\n",
    "                sort = False #set flag to equal false \n",
    "    return a"
   ]
  },
  {
   "cell_type": "code",
   "execution_count": 57,
   "metadata": {
    "collapsed": false
   },
   "outputs": [
    {
     "name": "stdout",
     "output_type": "stream",
     "text": [
      "Unsorted list\n",
      "[80, 82, 17, 94, 71, 22, 65, 45, 3, 98, 73, 94, 32, 20, 24, 100, 49, 58, 23, 3, 54, 46, 52, 74, 3, 61, 88, 60, 28, 31, 38, 25, 91, 61, 85, 3, 57, 93, 4, 39, 62, 3, 2, 58, 40, 32, 8, 19, 17, 100, 83, 84, 20, 16, 28, 44, 2, 22, 3, 72, 17, 15, 15, 94, 90, 72, 64, 25, 29, 49, 11, 1, 37, 1, 99, 88, 100, 74, 97, 57, 31, 16, 93, 82, 12, 90, 9, 72, 7, 93, 56, 66, 13, 56, 41, 54, 13, 78, 35, 80]\n",
      "Sorted list\n",
      "[1, 1, 2, 2, 3, 3, 3, 3, 3, 3, 4, 7, 8, 9, 11, 12, 13, 13, 15, 15, 16, 16, 17, 17, 17, 19, 20, 20, 22, 22, 23, 24, 25, 25, 28, 28, 29, 31, 31, 32, 32, 35, 37, 38, 39, 40, 41, 44, 45, 46, 49, 49, 52, 54, 54, 56, 56, 57, 57, 58, 58, 60, 61, 61, 62, 64, 65, 66, 71, 72, 72, 72, 73, 74, 74, 78, 80, 80, 82, 82, 83, 84, 85, 88, 88, 90, 90, 91, 93, 93, 93, 94, 94, 94, 97, 98, 99, 100, 100, 100]\n"
     ]
    }
   ],
   "source": [
    "a = [random.randrange(0, 101) for i in range(100)]\n",
    "print \"Unsorted list\"\n",
    "print a\n",
    "print \"Sorted list\"\n",
    "print bubble(a)"
   ]
  },
  {
   "cell_type": "code",
   "execution_count": 67,
   "metadata": {
    "collapsed": false
   },
   "outputs": [
    {
     "name": "stdout",
     "output_type": "stream",
     "text": [
      "[3, 5, 1, 6, 7, 1]\n",
      "[3, 5, 6, 7, 1]\n",
      "1\n"
     ]
    }
   ],
   "source": [
    "b = [3,5,1,6, 7, 1]\n",
    "print b\n",
    "x = b.pop(2)\n",
    "print b\n",
    "print x"
   ]
  },
  {
   "cell_type": "code",
   "execution_count": 87,
   "metadata": {
    "collapsed": true
   },
   "outputs": [],
   "source": [
    "from copy import deepcopy"
   ]
  },
  {
   "cell_type": "code",
   "execution_count": 88,
   "metadata": {
    "collapsed": true
   },
   "outputs": [],
   "source": [
    "def selection(b):\n",
    "    \"\"\"Use selection sort algorithm to sort list a.\"\"\"\n",
    "    a = deepcopy(b) #deepcopy to avoid modifying list\n",
    "    if len(a) <= 1: #if list is empty or one element return list itself\n",
    "        return a\n",
    "    s = []\n",
    "    for i in xrange(len(a)-1):\n",
    "        mini = float(\"inf\") #find minimum element of remaining list\n",
    "        mini_i = None #minimum index of remaininig list\n",
    "        for j in xrange(len(a)):\n",
    "            if a[j] < mini:\n",
    "                mini = a[j]\n",
    "                mini_i = j\n",
    "        s.append(mini) #add minimum from pass to sorted array\n",
    "        a.pop(mini_i) #remove minimum element from original list\n",
    "    s.append(a[0]) #add final element to sorted list\n",
    "    return s"
   ]
  },
  {
   "cell_type": "code",
   "execution_count": 97,
   "metadata": {
    "collapsed": false
   },
   "outputs": [
    {
     "name": "stdout",
     "output_type": "stream",
     "text": [
      "Test passed.\n"
     ]
    }
   ],
   "source": [
    "b = [random.randrange(0, 101) for i in range(10000)]\n",
    "#print \"Unsorted list\"\n",
    "#print b\n",
    "#print \"Sorted list\"\n",
    "s = selection(b)\n",
    "#print s\n",
    "assert s == sorted(b)\n",
    "print \"Test passed.\""
   ]
  },
  {
   "cell_type": "code",
   "execution_count": 104,
   "metadata": {
    "collapsed": false
   },
   "outputs": [
    {
     "name": "stdout",
     "output_type": "stream",
     "text": [
      "[3, 1, 2, 4, 5]\n"
     ]
    }
   ],
   "source": [
    "a = [1,2,4, 5]\n",
    "a.insert(0, 3) #insert b at index a \n",
    "print a"
   ]
  },
  {
   "cell_type": "code",
   "execution_count": 107,
   "metadata": {
    "collapsed": false
   },
   "outputs": [],
   "source": [
    "def insertion(a):\n",
    "    \"\"\"Insertion sort algorithm to sort list a.\"\"\"\n",
    "    if len(a) <= 1: #trivial case of list a\n",
    "        return a\n",
    "    s = []\n",
    "    s.append(a[0])\n",
    "    for i in xrange(1, len(a)): #make one pass for each element of list\n",
    "        if a[i] > s[-1]: #if element is larger than last element in s add to the end\n",
    "            s.append(a[i])\n",
    "        else:\n",
    "            for j in xrange(len(s)): #compare to elements in sorted list s\n",
    "                if a[i] <= s[j]:\n",
    "                    s.insert(j, a[i]) #insertion at appropriate position\n",
    "                    break\n",
    "    return s"
   ]
  },
  {
   "cell_type": "code",
   "execution_count": 110,
   "metadata": {
    "collapsed": false
   },
   "outputs": [
    {
     "name": "stdout",
     "output_type": "stream",
     "text": [
      "Unsorted list\n",
      "[17, 78, 26, 96, 22, 81, 39, 25, 50, 56, 6, 29, 59, 52, 86, 90, 41, 47, 10, 55, 61, 17, 40, 41, 88, 88, 39, 42, 37, 27, 48, 62, 59, 98, 42, 23, 31, 86, 75, 44, 85, 22, 44, 17, 81, 31, 59, 21, 14, 44]\n",
      "Sorted list\n",
      "[6, 10, 14, 17, 17, 17, 21, 22, 22, 23, 25, 26, 27, 29, 31, 31, 37, 39, 39, 40, 41, 41, 42, 42, 44, 44, 44, 47, 48, 50, 52, 55, 56, 59, 59, 59, 61, 62, 75, 78, 81, 81, 85, 86, 86, 88, 88, 90, 96, 98]\n",
      "Test passed.\n"
     ]
    }
   ],
   "source": [
    "b = [random.randrange(0, 101) for i in range(50)]\n",
    "print \"Unsorted list\"\n",
    "print b\n",
    "print \"Sorted list\"\n",
    "s = insertion(b)\n",
    "print s\n",
    "assert s == sorted(b)\n",
    "print \"Test passed.\""
   ]
  },
  {
   "cell_type": "code",
   "execution_count": null,
   "metadata": {
    "collapsed": true
   },
   "outputs": [],
   "source": []
  }
 ],
 "metadata": {
  "kernelspec": {
   "display_name": "Python 2",
   "language": "python",
   "name": "python2"
  },
  "language_info": {
   "codemirror_mode": {
    "name": "ipython",
    "version": 2
   },
   "file_extension": ".py",
   "mimetype": "text/x-python",
   "name": "python",
   "nbconvert_exporter": "python",
   "pygments_lexer": "ipython2",
   "version": "2.7.12"
  }
 },
 "nbformat": 4,
 "nbformat_minor": 0
}
