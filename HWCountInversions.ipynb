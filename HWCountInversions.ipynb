{
 "cells": [
  {
   "cell_type": "code",
   "execution_count": 1,
   "metadata": {
    "collapsed": true
   },
   "outputs": [],
   "source": [
    "import numpy as np"
   ]
  },
  {
   "cell_type": "code",
   "execution_count": 2,
   "metadata": {
    "collapsed": false
   },
   "outputs": [],
   "source": [
    "a = []\n",
    "with open(\"integers.txt\", 'rb') as f:\n",
    "    for line in f:\n",
    "        a.append(int(line))"
   ]
  },
  {
   "cell_type": "markdown",
   "metadata": {
    "collapsed": false
   },
   "source": [
    "Comparison of two different algorithms for counting the number of inversions in an array, brute force algorithm and a divide and conquer algorithm."
   ]
  },
  {
   "cell_type": "code",
   "execution_count": null,
   "metadata": {
    "collapsed": false
   },
   "outputs": [],
   "source": []
  },
  {
   "cell_type": "code",
   "execution_count": 4,
   "metadata": {
    "collapsed": true
   },
   "outputs": [],
   "source": [
    "def countSplit(a, b):\n",
    "    c = [] #empty list for combined\n",
    "    split_inv = 0\n",
    "    i = 0\n",
    "    j = 0\n",
    "    len_a = len(a)\n",
    "    len_b = len(b)\n",
    "    n = len_a + len_b\n",
    "    for k in xrange(n):\n",
    "        if a[i] < b[j]:\n",
    "            c.append(a[i]) #add to merged list if element in list a is smaller\n",
    "            i += 1\n",
    "            if i == len_a: #if we have reached the end of array a\n",
    "                c.extend(b[j:]) #add unexamined part of b to end of combined c and finish\n",
    "                return c, split_inv\n",
    "        else:\n",
    "            c.append(b[j])\n",
    "            split_inv += len_a - i\n",
    "            j += 1\n",
    "            if j == len_b: #reach end of list b\n",
    "                c.extend(a[i:]) #add unexamined part of a\n",
    "                return c, split_inv\n",
    "    return c, split_inv"
   ]
  },
  {
   "cell_type": "markdown",
   "metadata": {},
   "source": [
    "Divide and conquer algorithm splits the list in half until the base case is reached of a length 1 array."
   ]
  },
  {
   "cell_type": "code",
   "execution_count": 5,
   "metadata": {
    "collapsed": true
   },
   "outputs": [],
   "source": [
    "def sort_count(A):\n",
    "    n = len(A)\n",
    "    if n <= 1: #base case when list of length one with no inversions\n",
    "        return (A, 0)\n",
    "    else:\n",
    "        split = n // 2\n",
    "        B, x = sort_count(A[:split]) #sorted half of first list + number of inversions\n",
    "        C, y = sort_count(A[split:]) #sorted half of first list + number of inversions\n",
    "        D, z = countSplit(B, C) #count split inversions and return combined sorted list\n",
    "    return (D, x+y+z) #return combined sorted list and number of inversions"
   ]
  },
  {
   "cell_type": "code",
   "execution_count": null,
   "metadata": {
    "collapsed": false
   },
   "outputs": [],
   "source": []
  },
  {
   "cell_type": "code",
   "execution_count": 7,
   "metadata": {
    "collapsed": true
   },
   "outputs": [],
   "source": [
    "import time"
   ]
  },
  {
   "cell_type": "code",
   "execution_count": 8,
   "metadata": {
    "collapsed": false
   },
   "outputs": [
    {
     "name": "stdout",
     "output_type": "stream",
     "text": [
      "0\n",
      "Divide and conquer algorithm took 0.00 seconds.\n"
     ]
    }
   ],
   "source": [
    "start = time.time()\n",
    "print sort_count(a)[1]\n",
    "end = time.time()\n",
    "print \"Divide and conquer algorithm took %0.2f seconds.\" %(end-start)"
   ]
  },
  {
   "cell_type": "markdown",
   "metadata": {},
   "source": [
    "The countInv function uses 2 for loops to count the number of inversions in the array x in a brute force manner."
   ]
  },
  {
   "cell_type": "code",
   "execution_count": 9,
   "metadata": {
    "collapsed": true
   },
   "outputs": [],
   "source": [
    "def countInv(x):\n",
    "    n = len(x)\n",
    "    count = 0\n",
    "    for j in xrange(n-1): #look at the first n-1 entries\n",
    "        for k in xrange(j+1, n): #compare to numbers following j to end of vector\n",
    "            if x[j] > x[k]:\n",
    "                count += 1 #increment count for inversion\n",
    "    return count"
   ]
  },
  {
   "cell_type": "code",
   "execution_count": 11,
   "metadata": {
    "collapsed": true
   },
   "outputs": [],
   "source": [
    "import random"
   ]
  },
  {
   "cell_type": "code",
   "execution_count": 13,
   "metadata": {
    "collapsed": false
   },
   "outputs": [
    {
     "name": "stdout",
     "output_type": "stream",
     "text": [
      "6328615\n",
      "Divide and conquer algorithm took 0.04 seconds.\n",
      "6328615\n",
      "Brute force algorithm took 1.45 seconds.\n"
     ]
    }
   ],
   "source": [
    "b = [random.uniform(0, 10) for _ in range(5000)] #Generate random numbers\n",
    "start = time.time()\n",
    "print sort_count(b)[1]\n",
    "end = time.time()\n",
    "print \"Divide and conquer algorithm took %0.2f seconds.\" %(end-start)\n",
    "start = time.time()\n",
    "print countInv(b)\n",
    "end = time.time()\n",
    "print \"Brute force algorithm took %0.2f seconds.\" %(end-start)"
   ]
  },
  {
   "cell_type": "code",
   "execution_count": null,
   "metadata": {
    "collapsed": true
   },
   "outputs": [],
   "source": []
  }
 ],
 "metadata": {
  "kernelspec": {
   "display_name": "Python 2",
   "language": "python",
   "name": "python2"
  },
  "language_info": {
   "codemirror_mode": {
    "name": "ipython",
    "version": 2
   },
   "file_extension": ".py",
   "mimetype": "text/x-python",
   "name": "python",
   "nbconvert_exporter": "python",
   "pygments_lexer": "ipython2",
   "version": "2.7.12"
  }
 },
 "nbformat": 4,
 "nbformat_minor": 0
}
