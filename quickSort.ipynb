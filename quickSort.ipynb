{
 "cells": [
  {
   "cell_type": "code",
   "execution_count": 21,
   "metadata": {
    "collapsed": true
   },
   "outputs": [],
   "source": [
    "import numpy as np\n",
    "import math\n",
    "import random\n",
    "import time"
   ]
  },
  {
   "cell_type": "code",
   "execution_count": 255,
   "metadata": {
    "collapsed": true
   },
   "outputs": [],
   "source": [
    "A = []\n",
    "with open(\"qsort.txt\", \"rb\") as f:\n",
    "    for line in f:\n",
    "        A.append(int(line))"
   ]
  },
  {
   "cell_type": "code",
   "execution_count": 256,
   "metadata": {
    "collapsed": false
   },
   "outputs": [
    {
     "name": "stdout",
     "output_type": "stream",
     "text": [
      "10000\n",
      "10000\n",
      "5000.5\n",
      "5000.5\n",
      "1\n",
      "10000\n"
     ]
    }
   ],
   "source": [
    "print len(A)\n",
    "print len(set(A))\n",
    "print np.mean(A)\n",
    "print np.median(A)\n",
    "print np.min(A)\n",
    "print np.max(A)"
   ]
  },
  {
   "cell_type": "code",
   "execution_count": 235,
   "metadata": {
    "collapsed": false
   },
   "outputs": [
    {
     "name": "stdout",
     "output_type": "stream",
     "text": [
      "1000\n",
      "1000\n",
      "500.5\n"
     ]
    }
   ],
   "source": [
    "s = []\n",
    "with open(\"1000.txt\", \"rb\") as f:\n",
    "    for line in f:\n",
    "        s.append(int(line))\n",
    "print len(set(s))\n",
    "print len(s)\n",
    "print np.median(s)"
   ]
  },
  {
   "cell_type": "code",
   "execution_count": 153,
   "metadata": {
    "collapsed": false
   },
   "outputs": [
    {
     "name": "stdout",
     "output_type": "stream",
     "text": [
      "[3, 2, 5, 1, 4, 6, 7, 8]\n"
     ]
    }
   ],
   "source": [
    "a = [3, 8, 2, 5, 1, 4, 7, 6]\n",
    "partend(a, 0, len(a))\n",
    "print a"
   ]
  },
  {
   "cell_type": "code",
   "execution_count": 111,
   "metadata": {
    "collapsed": true
   },
   "outputs": [],
   "source": []
  },
  {
   "cell_type": "code",
   "execution_count": 122,
   "metadata": {
    "collapsed": true
   },
   "outputs": [],
   "source": [
    "def partition(A, pivot):\n",
    "    g = []\n",
    "    p = []\n",
    "    for i, x in enumerate(A):\n",
    "        if x < pivot:\n",
    "            p.append(x)\n",
    "        elif x > pivot:\n",
    "            g.append(i)\n",
    "    p.append(pivot)\n",
    "    for i in g:\n",
    "        p.append(A[i])\n",
    "    return p"
   ]
  },
  {
   "cell_type": "code",
   "execution_count": 12,
   "metadata": {
    "collapsed": true
   },
   "outputs": [],
   "source": [
    "def part1(A, l, r):\n",
    "    \"\"\"Partition subroutine using first element of A as pivot. l and r are left and right boundary indices.\"\"\"\n",
    "    pivot = A[l] #pivot as first element\n",
    "    i = l + 1 #boundary between less than pivot and greater than pivot\n",
    "    for j in xrange(l+1, r):\n",
    "        if A[j] < pivot:\n",
    "            A[i], A[j] = A[j], A[i] #swap elements to maintain invariant of partition\n",
    "            i += 1 #boundary of pivot has moved one to the right\n",
    "    A[l], A[i-1] = A[i-1], A[l] #swap pivot and right most entry less than pivot"
   ]
  },
  {
   "cell_type": "code",
   "execution_count": 150,
   "metadata": {
    "collapsed": true
   },
   "outputs": [],
   "source": [
    "def partend(A, l, r):\n",
    "    \"\"\"Partition subroutine using last element of A as pivot. l and r are left and right boundary indices.\"\"\"\n",
    "    A[-1], A[0] = A[0], A[-1] #swap first and last elements \n",
    "    pivot = A[l] #pivot as first element\n",
    "    i = l + 1 #boundary between less than pivot and greater than pivot\n",
    "    for j in xrange(l+1, r):\n",
    "        if A[j] < pivot:\n",
    "            A[i], A[j] = A[j], A[i] #swap elements to maintain invariant of partition\n",
    "            i += 1 #boundary of pivot has moved one to the right\n",
    "    A[l], A[i-1] = A[i-1], A[l] #swap pivot and right most entry less than pivot"
   ]
  },
  {
   "cell_type": "code",
   "execution_count": 77,
   "metadata": {
    "collapsed": true
   },
   "outputs": [],
   "source": [
    "def part2(A, l, r):\n",
    "    \"\"\"Partition subroutine using last element of A as pivot. l and r are left and right boundary indices.\"\"\"\n",
    "    pivot = A[r] #pivot as last element\n",
    "    i = r - 1 #boundary between less than pivot and greater than pivot\n",
    "    for j in xrange(r-1, l-1, -1):\n",
    "        if A[j] > pivot:\n",
    "            A[i], A[j] = A[j], A[i] #swap elements to maintain invariant of partition\n",
    "            i -= 1 #boundary of pivot has moved one to the right\n",
    "    A[r], A[i+1] = A[i+1], A[r] #swap pivot and right most entry less than pivot"
   ]
  },
  {
   "cell_type": "code",
   "execution_count": 240,
   "metadata": {
    "collapsed": false
   },
   "outputs": [
    {
     "name": "stdout",
     "output_type": "stream",
     "text": [
      "162085\n"
     ]
    }
   ],
   "source": [
    "def qsort1(A, n):\n",
    "    \"\"\"Quick sort a list A with len n.\"\"\"\n",
    "    global steps \n",
    "    if n <= 1:\n",
    "        return A\n",
    "    else:\n",
    "        p_index =  0 #choose pivot index\n",
    "        pivot = A[p_index] #value of pivot\n",
    "        part1(A, 0, n)\n",
    "        split = A.index(pivot)\n",
    "        steps += len(A)-1\n",
    "        p1 = qsort1(A[:split], len(A[:split])) #sort of partitioned halves\n",
    "        p2 = qsort1(A[split+1:], len(A[split+1:]))\n",
    "        return p1 + [pivot] +  p2\n",
    "steps = 0\n",
    "assert qsort1(A, len(A)) == sorted(A)\n",
    "print steps"
   ]
  },
  {
   "cell_type": "code",
   "execution_count": 90,
   "metadata": {
    "collapsed": false
   },
   "outputs": [
    {
     "name": "stdout",
     "output_type": "stream",
     "text": [
      "[1, 2, 3, 5, 4, 6, 7, 8]\n"
     ]
    }
   ],
   "source": [
    "print qsort2(a, len(a))"
   ]
  },
  {
   "cell_type": "code",
   "execution_count": 242,
   "metadata": {
    "collapsed": false
   },
   "outputs": [
    {
     "name": "stdout",
     "output_type": "stream",
     "text": [
      "164123\n"
     ]
    }
   ],
   "source": [
    "def qsort2(A, n):\n",
    "    \"\"\"Quick sort a list A with len n.\"\"\"\n",
    "    global steps \n",
    "    if n <= 1:\n",
    "        return A\n",
    "    else:\n",
    "        p_index = -1 #choose pivot index as last element\n",
    "        pivot = A[p_index] #value of pivot\n",
    "        partend(A, 0, n)\n",
    "        split = A.index(pivot)\n",
    "        steps += len(A)-1\n",
    "        p1 = qsort2(A[:split], len(A[:split])) #sort of partitioned halves\n",
    "        p2 = qsort2(A[split+1:], len(A[split+1:]))\n",
    "        return p1 + [pivot] +  p2\n",
    "steps = 0\n",
    "qsort2(A, len(A))\n",
    "print steps"
   ]
  },
  {
   "cell_type": "code",
   "execution_count": 205,
   "metadata": {
    "collapsed": false
   },
   "outputs": [],
   "source": [
    "def partmed(A, l, r):\n",
    "    \"\"\"Partition subroutine using median of first last and middle element. l and r are left and right boundary indices.\"\"\"\n",
    "    n = len(A)\n",
    "    first = A[0] #first, last and middle elements\n",
    "    last = A[-1]\n",
    "    mid = A[n//2]\n",
    "    med = np.median([first, last, mid]) #median of 3\n",
    "    pindex = A.index(med) #index value of median\n",
    "    A[0], A[pindex] = A[pindex], A[0] #swap\n",
    "    pivot = A[l] #pivot as first element\n",
    "    i = l + 1 #boundary between less than pivot and greater than pivot\n",
    "    for j in xrange(l+1, r):\n",
    "        if A[j] < pivot:\n",
    "            A[i], A[j] = A[j], A[i] #swap elements to maintain invariant of partition\n",
    "            i += 1 #boundary of pivot has moved one to the right\n",
    "    A[l], A[i-1] = A[i-1], A[l] #swap pivot and right most entry less than pivot"
   ]
  },
  {
   "cell_type": "code",
   "execution_count": 231,
   "metadata": {
    "collapsed": false
   },
   "outputs": [
    {
     "name": "stdout",
     "output_type": "stream",
     "text": [
      "100\n",
      "100\n",
      "50.5\n"
     ]
    }
   ],
   "source": [
    "b = []\n",
    "with open(\"100.txt\", \"rb\") as f:\n",
    "    for line in f:\n",
    "        b.append(int(line))\n",
    "print len(set(b))\n",
    "print len(b)\n",
    "print np.median(b)"
   ]
  },
  {
   "cell_type": "code",
   "execution_count": 257,
   "metadata": {
    "collapsed": false
   },
   "outputs": [
    {
     "name": "stdout",
     "output_type": "stream",
     "text": [
      "138382\n"
     ]
    }
   ],
   "source": [
    "def qsort3(A, n):\n",
    "    \"\"\"Quick sort a list A with len n.\"\"\"\n",
    "    global steps \n",
    "    if n <= 1:\n",
    "        return A\n",
    "    else:\n",
    "        n = len(A)\n",
    "        first = A[0] #first, last and middle elements\n",
    "        last = A[-1]\n",
    "        if n % 2 == 0:\n",
    "            mid = A[n/2-1] #find middle element\n",
    "        else:\n",
    "            mid = A[n//2]\n",
    "        med = sorted([first, mid, last])[1]\n",
    "        pindex = A.index(med) #index value of median\n",
    "        A[0], A[pindex] = A[pindex], A[0] #swap median of 3 with first \n",
    "        part1(A, 0, n)\n",
    "        split = A.index(med)\n",
    "        steps += len(A)-1\n",
    "        p1 = qsort3(A[:split], len(A[:split])) #sort of partitioned halves\n",
    "        p2 = qsort3(A[split+1:], len(A[split+1:]))\n",
    "        return p1 + [med] +  p2\n",
    "steps = 0\n",
    "assert qsort3(A, len(A)) == sorted(A)\n",
    "print steps"
   ]
  },
  {
   "cell_type": "code",
   "execution_count": 260,
   "metadata": {
    "collapsed": false
   },
   "outputs": [
    {
     "name": "stdout",
     "output_type": "stream",
     "text": [
      "163773\n"
     ]
    }
   ],
   "source": [
    "def qsortr(A, n):\n",
    "    \"\"\"Quick sort a list A with len n.\"\"\"\n",
    "    global steps \n",
    "    if n <= 1:\n",
    "        return A\n",
    "    else:\n",
    "        n = len(A)\n",
    "        pivot = random.choice(A)\n",
    "        pindex = A.index(pivot) #index value of median\n",
    "        A[0], A[pindex] = A[pindex], A[0] #swap median of 3 with first \n",
    "        part1(A, 0, n)\n",
    "        split = A.index(pivot)\n",
    "        steps += len(A)-1\n",
    "        p1 = qsortr(A[:split], len(A[:split])) #sort of partitioned halves\n",
    "        p2 = qsortr(A[split+1:], len(A[split+1:]))\n",
    "        return p1 + [pivot] +  p2\n",
    "steps = 0\n",
    "assert qsortr(A, len(A)) == sorted(A)\n",
    "print steps"
   ]
  },
  {
   "cell_type": "code",
   "execution_count": 247,
   "metadata": {
    "collapsed": false
   },
   "outputs": [
    {
     "name": "stdout",
     "output_type": "stream",
     "text": [
      "100000\n",
      "10569\n"
     ]
    }
   ],
   "source": [
    "print len(L)\n",
    "print L[0]"
   ]
  },
  {
   "cell_type": "code",
   "execution_count": 251,
   "metadata": {
    "collapsed": false
   },
   "outputs": [
    {
     "name": "stdout",
     "output_type": "stream",
     "text": [
      "Using first pivot took 0.7290 seconds.\n"
     ]
    }
   ],
   "source": [
    "L = list(np.arange(0, 100000, 1))\n",
    "random.shuffle(L)\n",
    "start =time.time()\n",
    "assert qsort1(L, len(L)) == sorted(L)\n",
    "end = time.time()\n",
    "print \"Using first pivot took %0.4f seconds.\" % (end-start)"
   ]
  },
  {
   "cell_type": "code",
   "execution_count": 252,
   "metadata": {
    "collapsed": false
   },
   "outputs": [
    {
     "name": "stdout",
     "output_type": "stream",
     "text": [
      "Using last pivot took 0.8070 seconds.\n"
     ]
    }
   ],
   "source": [
    "L = list(np.arange(0, 100000, 1))\n",
    "random.shuffle(L)\n",
    "start =time.time()\n",
    "assert qsort2(L, len(L)) == sorted(L)\n",
    "end = time.time()\n",
    "print \"Using last pivot took %0.4f seconds.\" % (end-start)"
   ]
  },
  {
   "cell_type": "code",
   "execution_count": 261,
   "metadata": {
    "collapsed": false
   },
   "outputs": [
    {
     "name": "stdout",
     "output_type": "stream",
     "text": [
      "Using median pivot took 0.7960 seconds.\n"
     ]
    }
   ],
   "source": [
    "L = list(np.arange(0, 100000, 1))\n",
    "random.shuffle(L)\n",
    "start =time.time()\n",
    "assert qsort3(L, len(L)) == sorted(L)\n",
    "end = time.time()\n",
    "print \"Using median pivot took %0.4f seconds.\" % (end-start)"
   ]
  },
  {
   "cell_type": "code",
   "execution_count": 264,
   "metadata": {
    "collapsed": false
   },
   "outputs": [
    {
     "name": "stdout",
     "output_type": "stream",
     "text": [
      "Using random pivot took 0.8570 seconds.\n"
     ]
    }
   ],
   "source": [
    "L = list(np.arange(0, 100000, 1))\n",
    "random.shuffle(L)\n",
    "start =time.time()\n",
    "assert qsortr(L, len(L)) == sorted(L)\n",
    "end = time.time()\n",
    "print \"Using random pivot took %0.4f seconds.\" % (end-start)"
   ]
  },
  {
   "cell_type": "code",
   "execution_count": null,
   "metadata": {
    "collapsed": true
   },
   "outputs": [],
   "source": []
  }
 ],
 "metadata": {
  "kernelspec": {
   "display_name": "Python 2",
   "language": "python",
   "name": "python2"
  },
  "language_info": {
   "codemirror_mode": {
    "name": "ipython",
    "version": 2
   },
   "file_extension": ".py",
   "mimetype": "text/x-python",
   "name": "python",
   "nbconvert_exporter": "python",
   "pygments_lexer": "ipython2",
   "version": "2.7.12"
  }
 },
 "nbformat": 4,
 "nbformat_minor": 0
}
